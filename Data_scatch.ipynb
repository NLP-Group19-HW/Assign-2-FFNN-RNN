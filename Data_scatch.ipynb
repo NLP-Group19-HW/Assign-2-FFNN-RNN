{
 "cells": [
  {
   "metadata": {},
   "cell_type": "code",
   "source": [
    "import numpy as np\n",
    "import torch\n",
    "import json\n"
   ],
   "id": "342014e2d034f35b",
   "outputs": [],
   "execution_count": null
  },
  {
   "metadata": {
    "ExecuteTime": {
     "end_time": "2024-11-14T22:26:38.343165500Z",
     "start_time": "2024-11-14T22:26:38.317169700Z"
    }
   },
   "cell_type": "code",
   "source": [
    "unk = '<UNK>'"
   ],
   "id": "3367a9886f0e1b8b",
   "outputs": [],
   "execution_count": 21
  },
  {
   "cell_type": "code",
   "id": "initial_id",
   "metadata": {
    "collapsed": true,
    "ExecuteTime": {
     "end_time": "2024-11-14T22:26:39.272750100Z",
     "start_time": "2024-11-14T22:26:39.253382300Z"
    }
   },
   "source": [
    "def load_data(train_data, val_data, test_data):\n",
    "    with open(train_data) as training_f:\n",
    "        training = json.load(training_f)\n",
    "    with open(val_data) as valid_f:\n",
    "        validation = json.load(valid_f)\n",
    "    with open(test_data) as test_f:\n",
    "        test = json.load(test_f)\n",
    "\n",
    "    tra = []\n",
    "    val = []\n",
    "    tes = []\n",
    "    for elt in training:\n",
    "        tra.append((elt[\"text\"].split(),int(elt[\"stars\"]-1)))\n",
    "    for elt in validation:\n",
    "        val.append((elt[\"text\"].split(),int(elt[\"stars\"]-1)))\n",
    "    for elt in test:\n",
    "        tes.append((elt[\"text\"].split(),int(elt[\"stars\"]-1)))\n",
    "\n",
    "    return tra, val, tes"
   ],
   "outputs": [],
   "execution_count": 22
  },
  {
   "metadata": {
    "ExecuteTime": {
     "end_time": "2024-11-14T22:26:40.767577800Z",
     "start_time": "2024-11-14T22:26:40.727419500Z"
    }
   },
   "cell_type": "code",
   "source": [
    "# Returns: \n",
    "# vocab = A set of strings corresponding to the vocabulary\n",
    "def make_vocab(data):\n",
    "    vocab = set()\n",
    "    for document, _ in data:\n",
    "        for word in document:\n",
    "            vocab.add(word)\n",
    "    return vocab "
   ],
   "id": "7c5e4cde17c72b34",
   "outputs": [],
   "execution_count": 23
  },
  {
   "metadata": {
    "ExecuteTime": {
     "end_time": "2024-11-14T22:26:41.693065700Z",
     "start_time": "2024-11-14T22:26:41.671178700Z"
    }
   },
   "cell_type": "code",
   "source": [
    "def make_indices(vocab):\n",
    "    vocab_list = sorted(vocab)  # vocab a-z 排序\n",
    "    vocab_list.append(unk)      # 结尾添加unk\n",
    "    word2index = {}\n",
    "    index2word = {}\n",
    "    for index, word in enumerate(vocab_list):\n",
    "        word2index[word] = index        # word2index[word] = index\n",
    "        index2word[index] = word        # index2word[index] = word\n",
    "    vocab.add(unk)\n",
    "    return vocab, word2index, index2word \n",
    "\n",
    "\n",
    "# Returns:\n",
    "# vectorized_data = A list of pairs (vector representation of input, y)\n",
    "def convert_to_vector_representation(data, word2index):\n",
    "    vectorized_data = []\n",
    "    for document, y in data:\n",
    "        vector = torch.zeros(len(word2index)) \n",
    "        for word in document:\n",
    "            index = word2index.get(word, word2index[unk])   # 查找该单词的索引。如果单词在 word2index 中不存在，则返回 <UNK> 的索引。\n",
    "            vector[index] += 1\n",
    "        vectorized_data.append((vector, y))\n",
    "    return vectorized_data\n"
   ],
   "id": "a5d4179ccff42f1e",
   "outputs": [],
   "execution_count": 24
  },
  {
   "metadata": {
    "ExecuteTime": {
     "end_time": "2024-11-14T22:26:44.557075500Z",
     "start_time": "2024-11-14T22:26:43.693675500Z"
    }
   },
   "cell_type": "code",
   "source": [
    "print(\"========== Loading data ==========\")\n",
    "train_data, valid_data, test_data = load_data(\"./training.json\", \"./validation.json\", \"./test.json\") # X_data is a list of pairs (document, y); y in {0,1,2,3,4}\n",
    "vocab = make_vocab(train_data)      # 返回不重复的vocabuaries 集合\n",
    "vocab, word2index, index2word = make_indices(vocab) # vocab 排序好a-z, <UNK>; word2index[word] => index 0, 1, 2...; index2word[index] => word \"<UNK>\", \"hello\"...\n"
   ],
   "id": "57e9928d834abd25",
   "outputs": [
    {
     "name": "stdout",
     "output_type": "stream",
     "text": [
      "========== Loading data ==========\n"
     ]
    }
   ],
   "execution_count": 25
  },
  {
   "metadata": {
    "ExecuteTime": {
     "end_time": "2024-11-14T22:23:56.943851700Z",
     "start_time": "2024-11-14T22:23:56.918014400Z"
    }
   },
   "cell_type": "code",
   "source": [
    "len(vocab)"
   ],
   "id": "f0172614f339d4ec",
   "outputs": [
    {
     "data": {
      "text/plain": "65667"
     },
     "execution_count": 13,
     "metadata": {},
     "output_type": "execute_result"
    }
   ],
   "execution_count": 13
  },
  {
   "metadata": {
    "ExecuteTime": {
     "end_time": "2024-11-14T22:23:57.782657800Z",
     "start_time": "2024-11-14T22:23:57.762665700Z"
    }
   },
   "cell_type": "code",
   "source": [
    "len(train_data)"
   ],
   "id": "11b4f28843c533b3",
   "outputs": [
    {
     "data": {
      "text/plain": "8000"
     },
     "execution_count": 14,
     "metadata": {},
     "output_type": "execute_result"
    }
   ],
   "execution_count": 14
  },
  {
   "metadata": {
    "ExecuteTime": {
     "end_time": "2024-11-14T22:23:58.293214Z",
     "start_time": "2024-11-14T22:23:58.281203300Z"
    }
   },
   "cell_type": "code",
   "source": [
    "len(valid_data)"
   ],
   "id": "4dedee084820e85e",
   "outputs": [
    {
     "data": {
      "text/plain": "800"
     },
     "execution_count": 15,
     "metadata": {},
     "output_type": "execute_result"
    }
   ],
   "execution_count": 15
  },
  {
   "metadata": {
    "ExecuteTime": {
     "end_time": "2024-11-14T22:23:59.454384300Z",
     "start_time": "2024-11-14T22:23:59.437915400Z"
    }
   },
   "cell_type": "code",
   "source": [
    "len(test_data)"
   ],
   "id": "9c847d62bc8de6fc",
   "outputs": [
    {
     "data": {
      "text/plain": "800"
     },
     "execution_count": 16,
     "metadata": {},
     "output_type": "execute_result"
    }
   ],
   "execution_count": 16
  },
  {
   "metadata": {
    "ExecuteTime": {
     "end_time": "2024-11-14T22:23:51.973315300Z",
     "start_time": "2024-11-14T22:23:32.361033100Z"
    }
   },
   "cell_type": "code",
   "source": [
    "print(\"========== Vectorizing data ==========\")\n",
    "train_data = convert_to_vector_representation(train_data, word2index)\n",
    "valid_data = convert_to_vector_representation(valid_data, word2index)\n",
    "test_data = convert_to_vector_representation(test_data, word2index)"
   ],
   "id": "7ad78ae70e92fc3d",
   "outputs": [
    {
     "name": "stdout",
     "output_type": "stream",
     "text": [
      "========== Vectorizing data ==========\n"
     ]
    }
   ],
   "execution_count": 12
  },
  {
   "metadata": {
    "ExecuteTime": {
     "end_time": "2024-11-14T22:24:09.083978300Z",
     "start_time": "2024-11-14T22:24:09.036946Z"
    }
   },
   "cell_type": "code",
   "source": [
    "train_data[0][0].shape"
   ],
   "id": "f961d3f1c18fd777",
   "outputs": [
    {
     "data": {
      "text/plain": "torch.Size([65667])"
     },
     "execution_count": 17,
     "metadata": {},
     "output_type": "execute_result"
    }
   ],
   "execution_count": 17
  },
  {
   "metadata": {
    "ExecuteTime": {
     "end_time": "2024-11-14T22:24:19.630729400Z",
     "start_time": "2024-11-14T22:24:19.603267700Z"
    }
   },
   "cell_type": "code",
   "source": [
    "valid_data[0][0].shape"
   ],
   "id": "dd41dd9c57d0bc0a",
   "outputs": [
    {
     "data": {
      "text/plain": "torch.Size([65667])"
     },
     "execution_count": 18,
     "metadata": {},
     "output_type": "execute_result"
    }
   ],
   "execution_count": 18
  },
  {
   "metadata": {
    "ExecuteTime": {
     "end_time": "2024-11-14T22:24:22.280280800Z",
     "start_time": "2024-11-14T22:24:22.262244600Z"
    }
   },
   "cell_type": "code",
   "source": [
    "test_data[0][0].shape"
   ],
   "id": "1451813903b46bf8",
   "outputs": [
    {
     "data": {
      "text/plain": "torch.Size([65667])"
     },
     "execution_count": 19,
     "metadata": {},
     "output_type": "execute_result"
    }
   ],
   "execution_count": 19
  },
  {
   "cell_type": "code",
   "execution_count": 26,
   "outputs": [
    {
     "name": "stdout",
     "output_type": "stream",
     "text": [
      "   Train  Validation  Test\n",
      "0   3200         320     0\n",
      "1   3200         320     0\n",
      "2   1600         160   160\n",
      "3      0           0   320\n",
      "4      0           0   320\n"
     ]
    }
   ],
   "source": [
    "import json\n",
    "from collections import Counter\n",
    "import pandas as pd\n",
    "\n",
    "def count_labels(data):\n",
    "    # 统计每种标签的数量\n",
    "    labels = [y for _, y in data]\n",
    "    return Counter(labels)\n",
    "\n",
    "# 统计每个数据集中不同标签的数量\n",
    "train_counts = count_labels(train_data)\n",
    "valid_counts = count_labels(valid_data)\n",
    "test_counts = count_labels(test_data)\n",
    "\n",
    "# 将统计结果转为表格\n",
    "df = pd.DataFrame({\n",
    "    \"Train\": train_counts,\n",
    "    \"Validation\": valid_counts,\n",
    "    \"Test\": test_counts\n",
    "}).fillna(0).astype(int)\n",
    "\n",
    "# 如果需要显示标签顺序\n",
    "df = df.reindex(range(5), fill_value=0)\n",
    "\n",
    "print(df)"
   ],
   "metadata": {
    "collapsed": false,
    "ExecuteTime": {
     "end_time": "2024-11-14T22:26:49.604007200Z",
     "start_time": "2024-11-14T22:26:49.538835800Z"
    }
   },
   "id": "838c9d15707de043"
  },
  {
   "cell_type": "code",
   "execution_count": null,
   "outputs": [],
   "source": [],
   "metadata": {
    "collapsed": false
   },
   "id": "463971474c339b2f"
  }
 ],
 "metadata": {
  "kernelspec": {
   "display_name": "Python 3",
   "language": "python",
   "name": "python3"
  },
  "language_info": {
   "codemirror_mode": {
    "name": "ipython",
    "version": 2
   },
   "file_extension": ".py",
   "mimetype": "text/x-python",
   "name": "python",
   "nbconvert_exporter": "python",
   "pygments_lexer": "ipython2",
   "version": "2.7.6"
  }
 },
 "nbformat": 4,
 "nbformat_minor": 5
}
