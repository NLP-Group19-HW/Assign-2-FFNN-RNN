{
 "cells": [
  {
   "metadata": {
    "ExecuteTime": {
     "end_time": "2024-11-13T07:59:27.467449Z",
     "start_time": "2024-11-13T07:59:23.548375Z"
    }
   },
   "cell_type": "code",
   "source": [
    "import numpy as np\n",
    "import torch\n",
    "import json\n"
   ],
   "id": "342014e2d034f35b",
   "execution_count": 3
  },
  {
   "metadata": {
    "ExecuteTime": {
     "end_time": "2024-11-13T07:59:27.499404Z",
     "start_time": "2024-11-13T07:59:27.478434Z"
    }
   },
   "cell_type": "code",
   "source": "unk = '<UNK>'",
   "id": "3367a9886f0e1b8b",
   "outputs": [],
   "execution_count": 4
  },
  {
   "cell_type": "code",
   "id": "initial_id",
   "metadata": {
    "collapsed": true,
    "ExecuteTime": {
     "end_time": "2024-11-13T07:59:27.577330Z",
     "start_time": "2024-11-13T07:59:27.551485Z"
    }
   },
   "source": [
    "def load_data(train_data, val_data, test_data):\n",
    "    with open(train_data) as training_f:\n",
    "        training = json.load(training_f)\n",
    "    with open(val_data) as valid_f:\n",
    "        validation = json.load(valid_f)\n",
    "    with open(test_data) as test_f:\n",
    "        test = json.load(test_f)\n",
    "\n",
    "    tra = []\n",
    "    val = []\n",
    "    tes = []\n",
    "    for elt in training:\n",
    "        tra.append((elt[\"text\"].split(),int(elt[\"stars\"]-1)))\n",
    "    for elt in validation:\n",
    "        val.append((elt[\"text\"].split(),int(elt[\"stars\"]-1)))\n",
    "    for elt in test:\n",
    "        tes.append((elt[\"text\"].split(),int(elt[\"stars\"]-1)))\n",
    "\n",
    "    return tra, val, tes"
   ],
   "outputs": [],
   "execution_count": 5
  },
  {
   "metadata": {
    "ExecuteTime": {
     "end_time": "2024-11-13T07:59:27.637337Z",
     "start_time": "2024-11-13T07:59:27.616315Z"
    }
   },
   "cell_type": "code",
   "source": [
    "# Returns: \n",
    "# vocab = A set of strings corresponding to the vocabulary\n",
    "def make_vocab(data):\n",
    "    vocab = set()\n",
    "    for document, _ in data:\n",
    "        for word in document:\n",
    "            vocab.add(word)\n",
    "    return vocab "
   ],
   "id": "7c5e4cde17c72b34",
   "outputs": [],
   "execution_count": 6
  },
  {
   "metadata": {
    "ExecuteTime": {
     "end_time": "2024-11-13T07:59:27.699862Z",
     "start_time": "2024-11-13T07:59:27.675875Z"
    }
   },
   "cell_type": "code",
   "source": [
    "def make_indices(vocab):\n",
    "    vocab_list = sorted(vocab)  # vocab a-z 排序\n",
    "    vocab_list.append(unk)      # 结尾添加unk\n",
    "    word2index = {}\n",
    "    index2word = {}\n",
    "    for index, word in enumerate(vocab_list):\n",
    "        word2index[word] = index        # word2index[word] = index\n",
    "        index2word[index] = word        # index2word[index] = word\n",
    "    vocab.add(unk)\n",
    "    return vocab, word2index, index2word \n",
    "\n",
    "\n",
    "# Returns:\n",
    "# vectorized_data = A list of pairs (vector representation of input, y)\n",
    "def convert_to_vector_representation(data, word2index):\n",
    "    vectorized_data = []\n",
    "    for document, y in data:\n",
    "        vector = torch.zeros(len(word2index)) \n",
    "        for word in document:\n",
    "            index = word2index.get(word, word2index[unk])   # 查找该单词的索引。如果单词在 word2index 中不存在，则返回 <UNK> 的索引。\n",
    "            vector[index] += 1\n",
    "        vectorized_data.append((vector, y))\n",
    "    return vectorized_data\n"
   ],
   "id": "a5d4179ccff42f1e",
   "outputs": [],
   "execution_count": 7
  },
  {
   "metadata": {
    "ExecuteTime": {
     "end_time": "2024-11-13T07:59:29.017790Z",
     "start_time": "2024-11-13T07:59:27.750406Z"
    }
   },
   "cell_type": "code",
   "source": [
    "print(\"========== Loading data ==========\")\n",
    "train_data, valid_data, test_data = load_data(\"./training.json\", \"./validation.json\", \"./test.json\") # X_data is a list of pairs (document, y); y in {0,1,2,3,4}\n",
    "vocab = make_vocab(train_data)      # 返回不重复的vocabuaries 集合\n",
    "vocab, word2index, index2word = make_indices(vocab) # vocab 排序好a-z, <UNK>; word2index[word] => index 0, 1, 2...; index2word[index] => word \"<UNK>\", \"hello\"...\n"
   ],
   "id": "57e9928d834abd25",
   "outputs": [
    {
     "name": "stdout",
     "output_type": "stream",
     "text": [
      "========== Loading data ==========\n"
     ]
    }
   ],
   "execution_count": 8
  },
  {
   "metadata": {
    "ExecuteTime": {
     "end_time": "2024-11-13T07:59:29.459627Z",
     "start_time": "2024-11-13T07:59:29.426046Z"
    }
   },
   "cell_type": "code",
   "source": "len(vocab)",
   "id": "f0172614f339d4ec",
   "outputs": [
    {
     "data": {
      "text/plain": [
       "65667"
      ]
     },
     "execution_count": 9,
     "metadata": {},
     "output_type": "execute_result"
    }
   ],
   "execution_count": 9
  },
  {
   "metadata": {
    "ExecuteTime": {
     "end_time": "2024-11-13T07:59:29.802578Z",
     "start_time": "2024-11-13T07:59:29.772520Z"
    }
   },
   "cell_type": "code",
   "source": "len(train_data)",
   "id": "11b4f28843c533b3",
   "outputs": [
    {
     "data": {
      "text/plain": [
       "8000"
      ]
     },
     "execution_count": 10,
     "metadata": {},
     "output_type": "execute_result"
    }
   ],
   "execution_count": 10
  },
  {
   "metadata": {
    "ExecuteTime": {
     "end_time": "2024-11-13T07:59:30.162048Z",
     "start_time": "2024-11-13T07:59:30.134427Z"
    }
   },
   "cell_type": "code",
   "source": "len(valid_data)",
   "id": "4dedee084820e85e",
   "outputs": [
    {
     "data": {
      "text/plain": [
       "800"
      ]
     },
     "execution_count": 11,
     "metadata": {},
     "output_type": "execute_result"
    }
   ],
   "execution_count": 11
  },
  {
   "metadata": {
    "ExecuteTime": {
     "end_time": "2024-11-13T07:59:30.413024Z",
     "start_time": "2024-11-13T07:59:30.390033Z"
    }
   },
   "cell_type": "code",
   "source": "len(test_data)",
   "id": "9c847d62bc8de6fc",
   "outputs": [
    {
     "data": {
      "text/plain": [
       "800"
      ]
     },
     "execution_count": 12,
     "metadata": {},
     "output_type": "execute_result"
    }
   ],
   "execution_count": 12
  },
  {
   "metadata": {
    "ExecuteTime": {
     "end_time": "2024-11-13T08:00:29.800200Z",
     "start_time": "2024-11-13T07:59:30.650689Z"
    }
   },
   "cell_type": "code",
   "source": [
    "print(\"========== Vectorizing data ==========\")\n",
    "train_data = convert_to_vector_representation(train_data, word2index)\n",
    "valid_data = convert_to_vector_representation(valid_data, word2index)\n",
    "test_data = convert_to_vector_representation(test_data, word2index)"
   ],
   "id": "7ad78ae70e92fc3d",
   "outputs": [
    {
     "name": "stdout",
     "output_type": "stream",
     "text": [
      "========== Vectorizing data ==========\n"
     ]
    }
   ],
   "execution_count": 13
  },
  {
   "metadata": {
    "ExecuteTime": {
     "end_time": "2024-11-13T08:01:04.937964Z",
     "start_time": "2024-11-13T08:01:04.907362Z"
    }
   },
   "cell_type": "code",
   "source": "train_data[0][0].shape",
   "id": "f961d3f1c18fd777",
   "outputs": [
    {
     "data": {
      "text/plain": [
       "torch.Size([65667])"
      ]
     },
     "execution_count": 17,
     "metadata": {},
     "output_type": "execute_result"
    }
   ],
   "execution_count": 17
  },
  {
   "metadata": {
    "ExecuteTime": {
     "end_time": "2024-11-13T08:22:36.245811Z",
     "start_time": "2024-11-13T08:22:36.194815Z"
    }
   },
   "cell_type": "code",
   "source": "valid_data[0][0].shape",
   "id": "dd41dd9c57d0bc0a",
   "outputs": [
    {
     "data": {
      "text/plain": [
       "torch.Size([65667])"
      ]
     },
     "execution_count": 18,
     "metadata": {},
     "output_type": "execute_result"
    }
   ],
   "execution_count": 18
  },
  {
   "metadata": {
    "ExecuteTime": {
     "end_time": "2024-11-13T08:22:38.895131Z",
     "start_time": "2024-11-13T08:22:38.872147Z"
    }
   },
   "cell_type": "code",
   "source": "test_data[0][0].shape",
   "id": "1451813903b46bf8",
   "outputs": [
    {
     "data": {
      "text/plain": [
       "torch.Size([65667])"
      ]
     },
     "execution_count": 19,
     "metadata": {},
     "output_type": "execute_result"
    }
   ],
   "execution_count": 19
  }
 ],
 "metadata": {
  "kernelspec": {
   "display_name": "Python 3",
   "language": "python",
   "name": "python3"
  },
  "language_info": {
   "codemirror_mode": {
    "name": "ipython",
    "version": 2
   },
   "file_extension": ".py",
   "mimetype": "text/x-python",
   "name": "python",
   "nbconvert_exporter": "python",
   "pygments_lexer": "ipython2",
   "version": "2.7.6"
  }
 },
 "nbformat": 4,
 "nbformat_minor": 5
}
